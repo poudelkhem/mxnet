{
 "cells": [
  {
   "cell_type": "markdown",
   "metadata": {},
   "source": [
    "<!--- Licensed to the Apache Software Foundation (ASF) under one -->\n",
    "<!--- or more contributor license agreements.  See the NOTICE file -->\n",
    "<!--- distributed with this work for additional information -->\n",
    "<!--- regarding copyright ownership.  The ASF licenses this file -->\n",
    "<!--- to you under the Apache License, Version 2.0 (the -->\n",
    "<!--- \"License\"); you may not use this file except in compliance -->\n",
    "<!--- with the License.  You may obtain a copy of the License at -->\n",
    "\n",
    "<!---   http://www.apache.org/licenses/LICENSE-2.0 -->\n",
    "\n",
    "<!--- Unless required by applicable law or agreed to in writing, -->\n",
    "<!--- software distributed under the License is distributed on an -->\n",
    "<!--- \"AS IS\" BASIS, WITHOUT WARRANTIES OR CONDITIONS OF ANY -->\n",
    "<!--- KIND, either express or implied.  See the License for the -->\n",
    "<!--- specific language governing permissions and limitations -->\n",
    "<!--- under the License. -->\n",
    "\n",
    "# Hand-written Digit Recognition\n",
    "\n",
    "In this tutorial, we'll give you a step-by-step walkthrough of building a hand-written digit classifier using the [MNIST](https://en.wikipedia.org/wiki/MNIST_database) dataset.\n",
    "\n",
    "MNIST is a widely used dataset for the hand-written digit classification task. It consists of 70,000 labeled grayscale images of hand-written digits, each 28x28 pixels in size. The dataset is split into 60,000 training images and 10,000 test images. There are 10 classes (one for each of the 10 digits). The task at hand is to train a model that can correctly classify the images into the digits they represent. The 60,000 training images are used to fit the model, and its performance in terms of classification accuracy is subsequently validated on the 10,000 test images.\n",
    "\n",
    "![png](https://raw.githubusercontent.com/dmlc/web-data/master/mxnet/example/mnist.png)\n",
    "\n",
    "**Figure 1:** Sample images from the MNIST dataset.\n",
    "\n",
    "This tutorial uses MXNet's high-level *Gluon* interface to implement neural networks in an imperative fashion. It is based on [the corresponding tutorial written with the symbolic approach](https://mxnet.incubator.apache.org/tutorials/python/mnist.html).\n",
    "\n",
    "## Prerequisites\n",
    "\n",
    "To complete this tutorial, you need:\n",
    "\n",
    "- MXNet. See the instructions for your operating system in [Setup and Installation](https://mxnet.incubator.apache.org/install/index.html).\n",
    "- The Python [`requests`](http://docs.python-requests.org/en/master/) library.\n",
    "- (Optional) The [Jupyter Notebook](https://jupyter.org/index.html) software for interactively running the provided `.ipynb` file.\n",
    "\n",
    "```\n",
    "$ pip install requests jupyter\n",
    "```\n",
    "\n",
    "## Loading Data\n",
    "\n",
    "The following code downloads the MNIST dataset to the default location (`.mxnet/datasets/mnist/` in your home directory) and creates `Dataset` objects `train_data` and `val_data` for training and validation, respectively.\n",
    "These objects can later be used to get one image or a batch of images at a time, together with their corresponding labels.\n",
    "\n",
    "We also immediately apply the `transform_first()` method and supply a function that moves the channel axis of the images to the beginning (`(28, 28, 1) -> (1, 28, 28)`), casts them to `float32` and rescales them from `[0, 255]` to `[0, 1]`.\n",
    "The name `transform_first` reflects the fact that these datasets contain images and labels, and that the transform should only be applied to the first of each `(image, label)` pair."
   ]
  },
  {
   "cell_type": "code",
   "execution_count": 1,
   "metadata": {},
   "outputs": [
    {
     "name": "stdout",
     "output_type": "stream",
     "text": [
      "Downloading /Users/khemnarayanpoudel/.mxnet/datasets/mnist/train-images-idx3-ubyte.gz from https://apache-mxnet.s3-accelerate.dualstack.amazonaws.com/gluon/dataset/mnist/train-images-idx3-ubyte.gz...\n",
      "Downloading /Users/khemnarayanpoudel/.mxnet/datasets/mnist/train-labels-idx1-ubyte.gz from https://apache-mxnet.s3-accelerate.dualstack.amazonaws.com/gluon/dataset/mnist/train-labels-idx1-ubyte.gz...\n",
      "Downloading /Users/khemnarayanpoudel/.mxnet/datasets/mnist/t10k-images-idx3-ubyte.gz from https://apache-mxnet.s3-accelerate.dualstack.amazonaws.com/gluon/dataset/mnist/t10k-images-idx3-ubyte.gz...\n",
      "Downloading /Users/khemnarayanpoudel/.mxnet/datasets/mnist/t10k-labels-idx1-ubyte.gz from https://apache-mxnet.s3-accelerate.dualstack.amazonaws.com/gluon/dataset/mnist/t10k-labels-idx1-ubyte.gz...\n"
     ]
    }
   ],
   "source": [
    "import mxnet as mx\n",
    "\n",
    "# Select a fixed random seed for reproducibility\n",
    "mx.random.seed(42)\n",
    "\n",
    "def data_xform(data):\n",
    "    \"\"\"Move channel axis to the beginning, cast to float32, and normalize to [0, 1].\"\"\"\n",
    "    return nd.moveaxis(data, 2, 0).astype('float32') / 255\n",
    "\n",
    "train_data = mx.gluon.data.vision.MNIST(train=True).transform_first(data_xform)\n",
    "val_data = mx.gluon.data.vision.MNIST(train=False).transform_first(data_xform)"
   ]
  },
  {
   "cell_type": "markdown",
   "metadata": {},
   "source": [
    "Since the MNIST dataset is relatively small, the `MNIST` class loads it into memory all at once, but for larger datasets like ImageNet, this would no longer be possible.\n",
    "The Gluon `Dataset` class from which `MNIST` derives supports both cases.\n",
    "In general, `Dataset` and `DataLoader` (which we will encounter next) are the machinery in MXNet that provides a stream of input data to be consumed by a training algorithm, typically in batches of multiple data entities at once for better efficiency.\n",
    "In this tutorial, we will configure the data loader to feed examples in batches of 100.\n",
    "\n",
    "An image batch is commonly represented as a 4-D array with shape `(batch_size, num_channels, height, width)`.\n",
    "This convention is denoted by \"NCHW\", and it is the default in MXNet.\n",
    "For the MNIST dataset, each image has a size of 28x28 pixels and one color channel (grayscale), hence the shape of an input batch will be `(batch_size, 1, 28, 28)`.\n",
    "\n",
    "Another important consideration is the order of input samples.\n",
    "When feeding training examples, it is critical not feed samples with the same label in succession since doing so can slow down training progress.\n",
    "Data iterators, i.e., instances of [`DataLoader`](https://mxnet.incubator.apache.org/api/python/gluon/data.html#mxnet.gluon.data.DataLoader), take care of this issue by randomly shuffling the inputs.\n",
    "Note that we only need to shuffle the training data -- for validation data, the order does not matter.\n",
    "\n",
    "The following code initializes the data iterators for the MNIST dataset."
   ]
  },
  {
   "cell_type": "code",
   "execution_count": 2,
   "metadata": {},
   "outputs": [],
   "source": [
    "batch_size = 100\n",
    "train_loader = mx.gluon.data.DataLoader(train_data, shuffle=True, batch_size=batch_size)\n",
    "val_loader = mx.gluon.data.DataLoader(val_data, shuffle=False, batch_size=batch_size)"
   ]
  },
  {
   "cell_type": "markdown",
   "metadata": {},
   "source": [
    "## Approaches\n",
    "\n",
    "We will cover two approaches for performing the hand-written digit recognition task.\n",
    "In our first attempt, we will make use of a traditional neural network architecture called [Multilayer Perceptron (MLP)](https://en.wikipedia.org/wiki/Multilayer_perceptron).\n",
    "Although this architecture lets us achieve over 95 % accuracy on the validation set, we will recognize and discuss some of its drawbacks and use them as a motivation for using a different network.\n",
    "In the subsequent second attempt, we introduce the more advanced and very widely used [Convolutional Neural Network (CNN)](https://en.wikipedia.org/wiki/Convolutional_neural_network) architecture that has proven to work very well for image classification tasks.\n",
    "\n",
    "As a first step, we run some convenience imports of frequently used modules."
   ]
  },
  {
   "cell_type": "code",
   "execution_count": 3,
   "metadata": {},
   "outputs": [],
   "source": [
    "from __future__ import print_function  # only relevant for Python 2\n",
    "import mxnet as mx\n",
    "from mxnet import nd, gluon, autograd\n",
    "from mxnet.gluon import nn"
   ]
  },
  {
   "cell_type": "markdown",
   "metadata": {},
   "source": [
    "### Defining a network: Multilayer Perceptron (MLP)\n",
    "\n",
    "MLPs consist of several fully connected layers.\n",
    "In a fully connected (short: FC) layer, each neuron is connected to every neuron in its preceding layer.\n",
    "From a linear algebra perspective, an FC layer applies an [affine transform](https://en.wikipedia.org/wiki/Affine_transformation) *Y = X W + b* to an input matrix *X* of size (*n x m*) and outputs a matrix *Y* of size (*n x k*).\n",
    "The number *k*, also referred to as *hidden size*, corresponds to the number of neurons in the FC layer.\n",
    "An FC layer has two learnable parameters: the (*m x k*) weight matrix *W* and the (*1 x k*) bias vector *b*.\n",
    "\n",
    "In an MLP, the outputs of FC layers are typically fed into an activation function that applies an elementwise nonlinearity.\n",
    "This step is crucial since it gives neural networks the ability to classify inputs that are not linearly separable.\n",
    "Common choices for activation functions are [sigmoid](https://en.wikipedia.org/wiki/Sigmoid_function), [hyperbolic tangent (\"tanh\")](https://en.wikipedia.org/wiki/Hyperbolic_function#Definitions), and [rectified linear unit (ReLU)](https://en.wikipedia.org/wiki/Rectifier_(neural_networks)).\n",
    "In this example, we'll use the ReLU activation function since it has several nice properties that make it a good default choice.\n",
    "\n",
    "The following code snippet declares three fully connected (or *dense*) layers with 128, 64 and 10 neurons each, where the last number of neurons matches the number of output classes in our dataset.\n",
    "Note that the last layer uses no activation function since the [softmax](https://mxnet.incubator.apache.org/api/python/ndarray/ndarray.html#mxnet.ndarray.softmax) activation will be implicitly applied by the loss function later on.\n",
    "To build the neural network, we use a [`HybridSequential`](https://mxnet.incubator.apache.org/api/python/gluon/gluon.html#mxnet.gluon.nn.HybridSequential) layer, which is a convenience class to build a linear stack of layers, often called a *feed-forward neural net*.\n",
    "\n",
    "The \"Hybrid\" part of name `HybridSequential` refers to the fact that such a layer can be used with both the Gluon API and the Symbol API.\n",
    "Using hybrid blocks over dynamic-only blocks (e.g. [`Sequential`](https://mxnet.incubator.apache.org/api/python/gluon/gluon.html#mxnet.gluon.nn.Sequential)) has several advantages apart from being compatible with a wider range of existing code: for instance, the computation graph of the network can be visualized with `mxnet.viz.plot_network()` and inspected for errors.\n",
    "Unless a network requires non-static runtime elements like loops, conditionals or random layer selection in its forward pass, it is generally a good idea to err on the side of hybrid blocks.\n",
    "For details on the differences, see the documentation on [`Block`](https://mxnet.incubator.apache.org/api/python/gluon/gluon.html#mxnet.gluon.Block) and [`HybridBlock`](https://mxnet.incubator.apache.org/api/python/gluon/gluon.html#mxnet.gluon.HybridBlock)."
   ]
  },
  {
   "cell_type": "code",
   "execution_count": 4,
   "metadata": {},
   "outputs": [],
   "source": [
    "net = nn.HybridSequential(prefix='MLP_')\n",
    "with net.name_scope():\n",
    "    net.add(\n",
    "        nn.Flatten(),\n",
    "        nn.Dense(128, activation='relu'),\n",
    "        nn.Dense(64, activation='relu'),\n",
    "        nn.Dense(10, activation=None)  # loss function includes softmax already, see below\n",
    "    )"
   ]
  },
  {
   "cell_type": "markdown",
   "metadata": {},
   "source": [
    "**Note**: using the `name_scope()` context manager is optional.\n",
    "It is, however, good practice since it uses a common prefix for the names of all layers generated in that scope, which can be very helpful during debugging.\n",
    "\n",
    "#### Initializing parameters and optimizer\n",
    "\n",
    "Before the network can be used, its parameters (weights and biases) need to be set to initial values that are sufficiently random while keeping the magnitude of gradients limited.\n",
    "The [Xavier](https://mxnet.incubator.apache.org/api/python/optimization/optimization.html#mxnet.initializer.Xavier) initializer is usually a good default choice.\n",
    "\n",
    "Since the `net.initialize()` method creates arrays for its parameters, it needs to know where to store the values: in CPU or GPU memory.\n",
    "Like many other functions and classes that deal with memory management in one way or another, the `initialize()` method takes an optional `ctx` (short for *context*) argument, where the return value of either `mx.cpu()` or `mx.gpu()` can be provided."
   ]
  },
  {
   "cell_type": "code",
   "execution_count": 5,
   "metadata": {},
   "outputs": [],
   "source": [
    "ctx = mx.gpu(0) if mx.context.num_gpus() > 0 else mx.cpu(0)\n",
    "net.initialize(mx.init.Xavier(), ctx=ctx)"
   ]
  },
  {
   "cell_type": "markdown",
   "metadata": {},
   "source": [
    "To train the network parameters, we will make use of the [stochastic gradient descent (SGD)](https://en.wikipedia.org/wiki/Stochastic_gradient_descent) optimizer.\n",
    "More specifically, we use mini-batch SGD in contrast to the classical SGD that processes one example at a time, which is very slow in practice.\n",
    "(Recall that we set the batch size to 100 in the [\"Loading Data\"](#loading-data) part.)\n",
    "\n",
    "Besides the batch size, the SGD algorithm has one important *hyperparameter*: the *learning rate*.\n",
    "It determines the size of steps that the algorithm takes in search of parameters that allow the network to optimally fit the training data.\n",
    "Therefore, this value has great influence on both the course of the training process and its final outcome.\n",
    "In general, hyperparameters refer to *non-learnable* values that need to be chosen before training and that have a potential effect on the outcome.\n",
    "In this example, further hyperparameters are the number of layers in the network, the number of neurons of the first two layers, the activation function and (later) the loss function.\n",
    "\n",
    "The SGD optimization method can be accessed in MXNet Gluon through the [`Trainer`](https://mxnet.incubator.apache.org/api/python/gluon/gluon.html#trainer) class.\n",
    "Internally, it makes use of the [`SGD`](https://mxnet.incubator.apache.org/api/python/optimization/optimization.html#mxnet.optimizer.SGD) optimizer class."
   ]
  },
  {
   "cell_type": "code",
   "execution_count": 6,
   "metadata": {},
   "outputs": [],
   "source": [
    "trainer = gluon.Trainer(\n",
    "    params=net.collect_params(),\n",
    "    optimizer='sgd',\n",
    "    optimizer_params={'learning_rate': 0.04},\n",
    ")"
   ]
  },
  {
   "cell_type": "markdown",
   "metadata": {},
   "source": [
    "#### Training\n",
    "\n",
    "Training the network requires a way to tell how well the network currently fits the training data.\n",
    "Following common practice in optimization, this quality of fit is expressed through a *loss value* (also referred to as badness-of-fit or data discrepancy), which the algorithm then tries to minimize by adjusting the weights of the model.\n",
    "\n",
    "Ideally, in a classification task, we would like to use the prediction inaccuracy, i.e., the fraction of incorrectly classified samples, to guide the training to a lower value.\n",
    "Unfortunately, inaccuracy is a poor choice for training since it contains almost no information that can be used to update the network parameters (its gradient is zero almost everywhere).\n",
    "As a better behaved proxy for inaccuracy, the [softmax cross-entropy loss](https://mxnet.incubator.apache.org/api/python/gluon/loss.html#mxnet.gluon.loss.SoftmaxCrossEntropyLoss) is a popular choice.\n",
    "It has the essential property of being minimal for the correct prediction, but at the same time, it is everywhere differentiable with nonzero gradient.\n",
    "The [accuracy](https://mxnet.incubator.apache.org/api/python/metric/metric.html#mxnet.metric.Accuracy) metric is still useful for monitoring the training progress, since it is more intuitively interpretable than a loss value.\n",
    "\n",
    "**Note:** `SoftmaxCrossEntropyLoss` combines the softmax activation and the cross entropy loss function in one layer, therefore the last layer in our network has no activation function."
   ]
  },
  {
   "cell_type": "code",
   "execution_count": 7,
   "metadata": {},
   "outputs": [],
   "source": [
    "metric = mx.metric.Accuracy()\n",
    "loss_function = gluon.loss.SoftmaxCrossEntropyLoss()"
   ]
  },
  {
   "cell_type": "markdown",
   "metadata": {},
   "source": [
    "Typically, the training is run until convergence, which means that further iterations will no longer lead to improvements of the loss function, and that the network has probably learned a good set of model parameters from the train data.\n",
    "For the purpose of this tutorial, we only loop 10 times over the entire dataset.\n",
    "One such pass over the data is usually called an *epoch*.\n",
    "\n",
    "The following steps are taken in each `epoch`:\n",
    "\n",
    "- Get a minibatch of `inputs` and `labels` from the `train_loader`.\n",
    "- Feed the `inputs` to the network, producing `outputs`.\n",
    "- Compute the minibatch `loss` value by comparing `outputs` to `labels`.\n",
    "- Use backpropagation to compute the gradients of the loss with respect to each of the network parameters by calling `loss.backward()`.\n",
    "- Update the parameters of the network according to the optimizer rule with `trainer.step(batch_size=inputs.shape[0])`.\n",
    "- Print the current accuracy over the training data, i.e., the fraction of correctly classified training examples."
   ]
  },
  {
   "cell_type": "code",
   "execution_count": 8,
   "metadata": {},
   "outputs": [
    {
     "name": "stdout",
     "output_type": "stream",
     "text": [
      "After epoch 1: accuracy = 0.8476166666666667\n",
      "After epoch 2: accuracy = 0.9210833333333334\n",
      "After epoch 3: accuracy = 0.9362833333333334\n",
      "After epoch 4: accuracy = 0.9466666666666667\n",
      "After epoch 5: accuracy = 0.9537166666666667\n",
      "After epoch 6: accuracy = 0.9597333333333333\n",
      "After epoch 7: accuracy = 0.9635833333333333\n",
      "After epoch 8: accuracy = 0.9669\n",
      "After epoch 9: accuracy = 0.97015\n",
      "After epoch 10: accuracy = 0.9733\n"
     ]
    }
   ],
   "source": [
    "num_epochs = 10\n",
    "\n",
    "for epoch in range(num_epochs):\n",
    "    for inputs, labels in train_loader:\n",
    "        # Possibly copy inputs and labels to the GPU\n",
    "        inputs = inputs.as_in_context(ctx)\n",
    "        labels = labels.as_in_context(ctx)\n",
    "\n",
    "        # The forward pass and the loss computation need to be wrapped\n",
    "        # in a `record()` scope to make sure the computational graph is\n",
    "        # recorded in order to automatically compute the gradients\n",
    "        # during the backward pass.\n",
    "        with autograd.record():\n",
    "            outputs = net(inputs)\n",
    "            loss = loss_function(outputs, labels)\n",
    "\n",
    "        # Compute gradients by backpropagation and update the evaluation\n",
    "        # metric\n",
    "        loss.backward()\n",
    "        metric.update(labels, outputs)\n",
    "\n",
    "        # Update the parameters by stepping the trainer; the batch size\n",
    "        # is required to normalize the gradients by `1 / batch_size`.\n",
    "        trainer.step(batch_size=inputs.shape[0])\n",
    "\n",
    "    # Print the evaluation metric and reset it for the next epoch\n",
    "    name, acc = metric.get()\n",
    "    print('After epoch {}: {} = {}'.format(epoch + 1, name, acc))\n",
    "    metric.reset()"
   ]
  },
  {
   "cell_type": "markdown",
   "metadata": {},
   "source": [
    "#### Validation\n",
    "\n",
    "When the above training has completed, we can evaluate the trained model by comparing predictions from the validation dataset with their respective correct labels.\n",
    "It is important to notice that the validation data was not used during training, i.e., the network has not seen the images and their true labels yet.\n",
    "Keeping a part of the data aside for validation is crucial for detecting *overfitting* of a network: If a neural network has enough parameters, it can simply memorize the training data and look up the true label for a given training image.\n",
    "While this results in 100 % training accuracy, such an overfit model would perform very poorly on new data.\n",
    "In other words, an overfit model does not generalize to a broader class of inputs than the training set, and such an outcome is almost always undesirable.\n",
    "Therefore, having a subset of \"unseen\" data for validation is an important part of good practice in machine learning.\n",
    "\n",
    "To validate our model on the validation data, we can run the following snippet of code:"
   ]
  },
  {
   "cell_type": "code",
   "execution_count": 9,
   "metadata": {},
   "outputs": [
    {
     "name": "stdout",
     "output_type": "stream",
     "text": [
      "Validaton: accuracy = 0.9686\n"
     ]
    }
   ],
   "source": [
    "metric = mx.metric.Accuracy()\n",
    "for inputs, labels in val_loader:\n",
    "    # Possibly copy inputs and labels to the GPU\n",
    "    inputs = inputs.as_in_context(ctx)\n",
    "    labels = labels.as_in_context(ctx)\n",
    "    metric.update(labels, net(inputs))\n",
    "print('Validaton: {} = {}'.format(*metric.get()))\n",
    "assert metric.get()[1] > 0.96"
   ]
  },
  {
   "cell_type": "markdown",
   "metadata": {},
   "source": [
    "If everything went well, we should see an accuracy value that is around 0.968, which means that we are able to accurately predict the digit in 97 % of test images.\n",
    "This is a pretty good result, but as we will see in the next part of this tutorial, we can do a lot better than that.\n",
    "\n",
    "That said, a single number only conveys very limited information on the performance of our neural network.\n",
    "It is always a good idea to actually look at the images on which the network performed poorly, and check for clues on how to improve the performance.\n",
    "We do that with the help of a small function that produces a list of the images which the network got wrong, together with the predicted and true labels."
   ]
  },
  {
   "cell_type": "code",
   "execution_count": 10,
   "metadata": {},
   "outputs": [],
   "source": [
    "def get_mislabeled(loader):\n",
    "    \"\"\"Return list of ``(input, pred_lbl, true_lbl)`` for mislabeled samples.\"\"\"\n",
    "    mislabeled = []\n",
    "    for inputs, labels in loader:\n",
    "        inputs = inputs.as_in_context(ctx)\n",
    "        labels = labels.as_in_context(ctx)\n",
    "        outputs = net(inputs)\n",
    "        # Predicted label is the index is where the output is maximal\n",
    "        preds = nd.argmax(outputs, axis=1)\n",
    "        for i, p, l in zip(inputs, preds, labels):\n",
    "            p, l = int(p.asscalar()), int(l.asscalar())\n",
    "            if p != l:\n",
    "                mislabeled.append((i.asnumpy(), p, l))\n",
    "    return mislabeled"
   ]
  },
  {
   "cell_type": "markdown",
   "metadata": {},
   "source": [
    "We can now get the mislabeled images in the training and validation sets and plot a selection of them:"
   ]
  },
  {
   "cell_type": "code",
   "execution_count": 11,
   "metadata": {},
   "outputs": [],
   "source": [
    "import numpy as np\n",
    "\n",
    "sample_size = 8\n",
    "wrong_train = get_mislabeled(train_loader)\n",
    "wrong_val = get_mislabeled(val_loader)\n",
    "wrong_train_sample = [wrong_train[i] for i in np.random.randint(0, len(wrong_train), size=sample_size)]\n",
    "wrong_val_sample = [wrong_val[i] for i in np.random.randint(0, len(wrong_val), size=sample_size)]\n",
    "\n",
    "import matplotlib.pyplot as plt\n",
    "\n",
    "fig, axs = plt.subplots(ncols=sample_size)\n",
    "for ax, (img, pred, lbl) in zip(axs, wrong_train_sample):\n",
    "    fig.set_size_inches(18, 4)\n",
    "    fig.suptitle(\"Sample of wrong predictions in the training set\", fontsize=20)\n",
    "    ax.imshow(img[0], cmap=\"gray\")\n",
    "    ax.set_title(\"Predicted: {}\\nActual: {}\".format(pred, lbl))\n",
    "    ax.xaxis.set_visible(False)\n",
    "    ax.yaxis.set_visible(False)\n",
    "\n",
    "fig, axs = plt.subplots(ncols=sample_size)\n",
    "for ax, (img, pred, lbl) in zip(axs, wrong_val_sample):\n",
    "    fig.set_size_inches(18, 4)\n",
    "    fig.suptitle(\"Sample of wrong predictions in the validation set\", fontsize=20)\n",
    "    ax.imshow(img[0], cmap=\"gray\")\n",
    "    ax.set_title(\"Predicted: {}\\nActual: {}\".format(pred, lbl))\n",
    "    ax.xaxis.set_visible(False)\n",
    "    ax.yaxis.set_visible(False)"
   ]
  },
  {
   "cell_type": "markdown",
   "metadata": {},
   "source": [
    "In this case, it is rather obvious that our MLP network is either too simple or has not been trained long enough to perform really great on this dataset, as can be seen from the fact that some of the mislabeled examples are rather \"easy\" and should not be a challenge for our neural net.\n",
    "As it turns out, moving to the CNN architecture presented in the following section will give a big performance boost.\n",
    "\n",
    "### Convolutional Neural Network (CNN)\n",
    "\n",
    "A fundamental issue with the MLP network is that it requires the inputs to be flattened (in the non-batch axes) before they can be processed by the dense layers.\n",
    "This means in particular that the spatial structure of an image is largely discarded, and that the values describing it are just treated as a long vector.\n",
    "The network then has to figure out the neighborhood relations of pixels from scratch by adjusting its weights accordingly, which seems very wasteful.\n",
    "\n",
    "A CNN aims to address this problem by using a more structured weight representation.\n",
    "Instead of connecting all inputs to all outputs, the characteristic [convolution layer](https://mxnet.incubator.apache.org/api/python/gluon/nn.html#mxnet.gluon.nn.Conv2D) only considers a small neighborhood of a pixel to compute the value of the corresponding output pixel.\n",
    "In particular, the spatial structure of the image is preserved, i.e., one can speak of input and output pixels in the first place.\n",
    "Only the size of the image may change through convolutions.\n",
    "[This article](http://deeplearning.net/software/theano/tutorial/conv_arithmetic.html) gives a good and intuitive explanation of convolutions in the context of deep learning.\n",
    "\n",
    "The size of the neighborhood that a convolution layer considers for each pixel is usually referred to as *filter size* or *kernel size*.\n",
    "The array of weights -- which does not depend on the output pixel location, only on the position within such a neighborhood -- is called *filter* or *kernel*.\n",
    "Typical filter sizes range from *3 x 3* to *13 x 13*, which implies that a convolution layer has *far* fewer parameters than a dense layer."
   ]
  },
  {
   "cell_type": "code",
   "execution_count": 12,
   "metadata": {},
   "outputs": [
    {
     "name": "stdout",
     "output_type": "stream",
     "text": [
      "conv0_ (\n",
      "  Parameter conv0_weight (shape=(32, 16, 3, 3), dtype=<class 'numpy.float32'>)\n",
      "  Parameter conv0_bias (shape=(32,), dtype=<class 'numpy.float32'>)\n",
      ")\n"
     ]
    }
   ],
   "source": [
    "conv_layer = nn.Conv2D(kernel_size=(3, 3), channels=32, in_channels=16, activation='relu')\n",
    "print(conv_layer.params)"
   ]
  },
  {
   "cell_type": "markdown",
   "metadata": {},
   "source": [
    "Filters can be thought of as little feature detectors: in early layers, they learn to detect small local structures like edges, whereas later layers become sensitive to more and more global structures.\n",
    "Since images often contain a rich set of such features, it is customary to have each convolution layer employ and learn many different filters in parallel, so as to detect many different image features on their respective scales.\n",
    "This stacking of filters, which directly translates to a stacking of output images, is referred to as output *channels* of the convolution layer.\n",
    "Likewise, the input can already have multiple channels.\n",
    "In the above example, the convolution layer takes an input image with 16 channels and maps it to an image with 32 channels by convolving each of the input channels with a different set of 32 filters and then summing over the 16 input channels.\n",
    "Therefore, the total number of filter parameters in the convolution layer is `channels * in_channels * prod(kernel_size)`, which amounts to 4608 in the above example.\n",
    "\n",
    "Another characteristic feature of CNNs is the usage of *pooling*, i.e., summarizing patches to a single number, to shrink the size of an image as it travels through the layers.\n",
    "This step lowers the computational burden of training the network, but the main motivation for pooling is the assumption that it makes the network less sensitive to small translations, rotations or deformations of the image.\n",
    "Popular pooling strategies are max-pooling and average-pooling, and they are usually performed after convolution.\n",
    "\n",
    "The following code defines a CNN architecture called *LeNet*.\n",
    "The LeNet architecture is a popular network known to work well on digit classification tasks.\n",
    "We will use a version that differs slightly from the original in the usage of `tanh` activations instead of `sigmoid`."
   ]
  },
  {
   "cell_type": "code",
   "execution_count": 13,
   "metadata": {},
   "outputs": [],
   "source": [
    "lenet = nn.HybridSequential(prefix='LeNet_')\n",
    "with lenet.name_scope():\n",
    "    lenet.add(\n",
    "        nn.Conv2D(channels=20, kernel_size=(5, 5), activation='tanh'),\n",
    "        nn.MaxPool2D(pool_size=(2, 2), strides=(2, 2)),\n",
    "        nn.Conv2D(channels=50, kernel_size=(5, 5), activation='tanh'),\n",
    "        nn.MaxPool2D(pool_size=(2, 2), strides=(2, 2)),\n",
    "        nn.Flatten(),\n",
    "        nn.Dense(500, activation='tanh'),\n",
    "        nn.Dense(10, activation=None),\n",
    "    )"
   ]
  },
  {
   "cell_type": "markdown",
   "metadata": {},
   "source": [
    "To get an overview of all intermediate sizes of arrays and the number of parameters in each layer, the `summary()` method can be a great help.\n",
    "It requires the network parameters to be initialized, and an input array to infer the sizes."
   ]
  },
  {
   "cell_type": "code",
   "execution_count": 14,
   "metadata": {},
   "outputs": [
    {
     "name": "stdout",
     "output_type": "stream",
     "text": [
      "--------------------------------------------------------------------------------\n",
      "        Layer (type)                                Output Shape         Param #\n",
      "================================================================================\n",
      "               Input                              (1, 1, 28, 28)               0\n",
      "        Activation-1                <Symbol eNet_conv0_tanh_fwd>               0\n",
      "        Activation-2                             (1, 20, 24, 24)               0\n",
      "            Conv2D-3                             (1, 20, 24, 24)             520\n",
      "         MaxPool2D-4                             (1, 20, 12, 12)               0\n",
      "        Activation-5                <Symbol eNet_conv1_tanh_fwd>               0\n",
      "        Activation-6                               (1, 50, 8, 8)               0\n",
      "            Conv2D-7                               (1, 50, 8, 8)           25050\n",
      "         MaxPool2D-8                               (1, 50, 4, 4)               0\n",
      "           Flatten-9                                    (1, 800)               0\n",
      "       Activation-10               <Symbol eNet_dense0_tanh_fwd>               0\n",
      "       Activation-11                                    (1, 500)               0\n",
      "            Dense-12                                    (1, 500)          400500\n",
      "            Dense-13                                     (1, 10)            5010\n",
      "================================================================================\n",
      "Parameters in forward computation graph, duplicate included\n",
      "   Total params: 431080\n",
      "   Trainable params: 431080\n",
      "   Non-trainable params: 0\n",
      "Shared params in forward computation graph: 0\n",
      "Unique parameters in model: 431080\n",
      "--------------------------------------------------------------------------------\n"
     ]
    }
   ],
   "source": [
    "lenet.initialize(mx.init.Xavier(), ctx=ctx)\n",
    "lenet.summary(nd.zeros((1, 1, 28, 28), ctx=ctx))"
   ]
  },
  {
   "cell_type": "markdown",
   "metadata": {},
   "source": [
    "```\n",
    "Output:\n",
    "\n",
    "--------------------------------------------------------------------------------\n",
    "        Layer (type)                                Output Shape         Param #\n",
    "================================================================================\n",
    "               Input                              (1, 1, 28, 28)               0\n",
    "        Activation-1                <Symbol eNet_conv0_tanh_fwd>               0\n",
    "        Activation-2                             (1, 20, 24, 24)               0\n",
    "            Conv2D-3                             (1, 20, 24, 24)             520\n",
    "         MaxPool2D-4                             (1, 20, 12, 12)               0\n",
    "        Activation-5                <Symbol eNet_conv1_tanh_fwd>               0\n",
    "        Activation-6                               (1, 50, 8, 8)               0\n",
    "            Conv2D-7                               (1, 50, 8, 8)           25050\n",
    "         MaxPool2D-8                               (1, 50, 4, 4)               0\n",
    "           Flatten-9                                    (1, 800)               0\n",
    "       Activation-10               <Symbol eNet_dense0_tanh_fwd>               0\n",
    "       Activation-11                                    (1, 500)               0\n",
    "            Dense-12                                    (1, 500)          400500\n",
    "            Dense-13                                     (1, 10)            5010\n",
    "================================================================================\n",
    "Parameters in forward computation graph, duplicate included\n",
    "   Total params: 431080\n",
    "   Trainable params: 431080\n",
    "   Non-trainable params: 0\n",
    "Shared params in forward computation graph: 0\n",
    "Unique parameters in model: 431080\n",
    "--------------------------------------------------------------------------------\n",
    "```\n",
    "\n",
    "![png](https://raw.githubusercontent.com/dmlc/web-data/master/mxnet/image/conv_mnist.png)\n",
    "\n",
    "**Figure 3:** First conv + pooling layer in LeNet.\n",
    "\n",
    "Now we train LeNet with similar hyperparameters and procedure as before.\n",
    "Note that it is advisable to use a GPU if possible, since this model is significantly more computationally demanding to evaluate and train than the previous MLP."
   ]
  },
  {
   "cell_type": "code",
   "execution_count": null,
   "metadata": {},
   "outputs": [
    {
     "name": "stdout",
     "output_type": "stream",
     "text": [
      "After epoch 1: accuracy = 0.9024833333333333\n",
      "After epoch 2: accuracy = 0.9636\n",
      "After epoch 3: accuracy = 0.9740333333333333\n",
      "After epoch 4: accuracy = 0.9796833333333334\n"
     ]
    }
   ],
   "source": [
    "trainer = gluon.Trainer(\n",
    "    params=lenet.collect_params(),\n",
    "    optimizer='sgd',\n",
    "    optimizer_params={'learning_rate': 0.04},\n",
    ")\n",
    "metric = mx.metric.Accuracy()\n",
    "num_epochs = 10\n",
    "\n",
    "for epoch in range(num_epochs):\n",
    "    for inputs, labels in train_loader:\n",
    "        inputs = inputs.as_in_context(ctx)\n",
    "        labels = labels.as_in_context(ctx)\n",
    "\n",
    "        with autograd.record():\n",
    "            outputs = lenet(inputs)\n",
    "            loss = loss_function(outputs, labels)\n",
    "\n",
    "        loss.backward()\n",
    "        metric.update(labels, outputs)\n",
    "\n",
    "        trainer.step(batch_size=inputs.shape[0])\n",
    "\n",
    "    name, acc = metric.get()\n",
    "    print('After epoch {}: {} = {}'.format(epoch + 1, name, acc))\n",
    "    metric.reset()\n",
    "\n",
    "for inputs, labels in val_loader:\n",
    "    inputs = inputs.as_in_context(ctx)\n",
    "    labels = labels.as_in_context(ctx)\n",
    "    metric.update(labels, lenet(inputs))\n",
    "print('Validaton: {} = {}'.format(*metric.get()))\n",
    "assert metric.get()[1] > 0.985"
   ]
  },
  {
   "cell_type": "markdown",
   "metadata": {},
   "source": [
    "\n",
    "If all went well, we should see a higher accuracy metric for predictions made using LeNet.\n",
    "With this CNN we should be able to correctly predict around 99% of all validation images.\n",
    "\n",
    "## Summary\n",
    "\n",
    "In this tutorial, we demonstrated how to use MXNet to solve a standard computer vision problem: classifying images of hand-written digits.\n",
    "We showed how to quickly build, train and evaluate models such as MLPs and CNNs with the MXNet Gluon package.\n",
    "\n",
    "<!-- INSERT SOURCE DOWNLOAD BUTTONS -->\n",
    "\n"
   ]
  },
  {
   "cell_type": "code",
   "execution_count": null,
   "metadata": {},
   "outputs": [],
   "source": []
  }
 ],
 "metadata": {
  "display_name": "",
  "kernelspec": {
   "display_name": "Python 3",
   "language": "python",
   "name": "python3"
  },
  "language_info": {
   "codemirror_mode": {
    "name": "ipython",
    "version": 3
   },
   "file_extension": ".py",
   "mimetype": "text/x-python",
   "name": "python",
   "nbconvert_exporter": "python",
   "pygments_lexer": "ipython3",
   "version": "3.7.1"
  },
  "name": ""
 },
 "nbformat": 4,
 "nbformat_minor": 2
}
